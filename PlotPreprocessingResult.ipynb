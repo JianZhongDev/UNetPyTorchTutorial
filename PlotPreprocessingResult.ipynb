{
 "cells": [
  {
   "cell_type": "code",
   "execution_count": null,
   "id": "2e26d1df-bba7-4073-8e4c-377927ae4bd9",
   "metadata": {},
   "outputs": [],
   "source": [
    "# import \n",
    "import os\n",
    "import numpy as np\n",
    "import matplotlib.pyplot as plt\n",
    "import cv2\n",
    "import importlib"
   ]
  },
  {
   "cell_type": "code",
   "execution_count": null,
   "id": "d46aa753-d4c5-45ba-8692-3e4742bed54b",
   "metadata": {},
   "outputs": [],
   "source": [
    "src_segfile_path = r\"E:\\Python\\DataSet\\TorchDataSet\\DIC-C2DH-HeLa\\Train\\DIC-C2DH-HeLa\\DIC-C2DH-HeLa\\01_ST\\SEG\\man_seg000.tif\""
   ]
  },
  {
   "cell_type": "code",
   "execution_count": null,
   "id": "ab82f17e-2027-4a86-8bc2-3ef98f9dcbc2",
   "metadata": {},
   "outputs": [],
   "source": [
    "src_segfile_dir_path, src_segfile_file_name = os.path.split(src_segfile_path)\n",
    "\n",
    "src_erodefile_dir_path = src_segfile_dir_path + r\"_ERODE\"\n",
    "src_erodefile_path = os.path.join(src_erodefile_dir_path, src_segfile_file_name)\n",
    "print(src_erodefile_path)\n",
    "\n",
    "src_weightfile_dir_path = src_segfile_dir_path + r\"_WEIGHT\"\n",
    "src_weightfile_path = os.path.join(src_weightfile_dir_path, src_segfile_file_name)\n",
    "print(src_weightfile_path)"
   ]
  },
  {
   "cell_type": "code",
   "execution_count": null,
   "id": "7955f461-728a-43ea-a55f-f350ecb3500e",
   "metadata": {},
   "outputs": [],
   "source": [
    "## create destination dir path\n",
    "dst_plot_subdir_path = \".\\Results\\Plots\"\n",
    "\n",
    "if not os.path.isdir(dst_plot_subdir_path):\n",
    "    os.makedirs(dst_plot_subdir_path)"
   ]
  },
  {
   "cell_type": "code",
   "execution_count": null,
   "id": "924f2d06-8025-4b07-8a16-c12da6ed2fac",
   "metadata": {},
   "outputs": [],
   "source": [
    "src_seg_image = cv2.imread(src_segfile_path, -1)\n",
    "src_erode_image = cv2.imread(src_erodefile_path, -1)\n",
    "src_weight_image = cv2.imread(src_weightfile_path, -1)\n",
    "\n",
    "plot_dst_png_file_name = \"Preprocess.png\"\n",
    "\n",
    "plot_dst_png_file_path = os.path.join(dst_plot_subdir_path, plot_dst_png_file_name)\n",
    "\n",
    "\n",
    "fig = plt.figure(figsize = (13,4))\n",
    "\n",
    "plt.subplot(1,3,1)\n",
    "plt.imshow(src_seg_image, cmap = \"Set3\")\n",
    "plt.xticks([])\n",
    "plt.yticks([])\n",
    "plt.colorbar()\n",
    "plt.title(\"Original segmentation\")\n",
    "\n",
    "plt.subplot(1,3,2)\n",
    "plt.imshow(src_erode_image, cmap = \"Set3\")\n",
    "plt.xticks([])\n",
    "plt.yticks([])\n",
    "plt.colorbar()\n",
    "plt.title(\"Eroded segmentation\")\n",
    "\n",
    "plt.subplot(1,3,3)\n",
    "plt.imshow(src_weight_image)\n",
    "plt.xticks([])\n",
    "plt.yticks([])\n",
    "plt.colorbar()\n",
    "plt.title(\"Spatial weights\")\n",
    "\n",
    "plt.tight_layout()\n",
    "\n",
    "fig.savefig(plot_dst_png_file_path, bbox_inches='tight', dpi = 300)\n",
    "\n",
    "plt.show()\n",
    "\n",
    "print(plot_dst_png_file_path)"
   ]
  },
  {
   "cell_type": "code",
   "execution_count": null,
   "id": "c33c497d-a02c-4a5a-ad4b-95aa39748060",
   "metadata": {},
   "outputs": [],
   "source": []
  }
 ],
 "metadata": {
  "kernelspec": {
   "display_name": "Python 3 (ipykernel)",
   "language": "python",
   "name": "python3"
  },
  "language_info": {
   "codemirror_mode": {
    "name": "ipython",
    "version": 3
   },
   "file_extension": ".py",
   "mimetype": "text/x-python",
   "name": "python",
   "nbconvert_exporter": "python",
   "pygments_lexer": "ipython3",
   "version": "3.10.13"
  }
 },
 "nbformat": 4,
 "nbformat_minor": 5
}
